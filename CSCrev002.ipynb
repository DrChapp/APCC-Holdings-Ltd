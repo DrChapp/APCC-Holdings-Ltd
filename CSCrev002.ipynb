{
 "cells": [
  {
   "cell_type": "code",
   "execution_count": 154,
   "id": "b6c4ce0c-c0a1-462c-bd10-7d190a3b3ac0",
   "metadata": {
    "tags": []
   },
   "outputs": [],
   "source": [
    "import random\n",
    "import numpy as np\n",
    "import pandas as pd\n",
    "from matplotlib import pyplot as plt\n",
    "import ccxt\n",
    "import datetime\n",
    "import scipy.interpolate, scipy.optimize\n",
    "import statsmodels.api as sm\n",
    "from statsmodels.regression.rolling import RollingOLS\n"
   ]
  },
  {
   "cell_type": "code",
   "execution_count": 183,
   "id": "cb4c9e7a-cc80-44d8-9319-4110d9352666",
   "metadata": {},
   "outputs": [],
   "source": [
    "def getData(ticker, interval):\n",
    "    binance = ccxt.binance()\n",
    "    #tickerList = [\"BTC\", \"ETH\", \"BNB\", \"ADA\", \"SAND\", \"DOT\"]\n",
    "    #currency = \"/USDT\"\n",
    "    \n",
    "    temp_ticker = binance.fetch_ticker(ticker)\n",
    "    #print(temp_ticker)\n",
    "    btc_usdt_ohlcv = binance.fetch_ohlcv(ticker,interval,limit=1000)\n",
    "    #print(btc_usdt_ohlcv)\n",
    "\n",
    "    #return data in dataframe format with correct columns\n",
    "     \n",
    "    dataf = pd.DataFrame(btc_usdt_ohlcv, columns =['time', 'open', 'high', 'low','close','volume']) \n",
    "    #print(dataf)\n",
    "    \n",
    "    \n",
    "    dataf['MA7'] = dataf['close'].rolling(window=7).mean()\n",
    "    dataf['MA10'] = dataf['close'].rolling(window=10).mean()\n",
    "    dataf['MA30'] = dataf['close'].rolling(window=30).mean()\n",
    "    dataf['MA100'] = dataf['close'].rolling(window=100).mean()\n",
    "    dataf['MA200'] = dataf['close'].rolling(window=200).mean()\n",
    "    \n",
    "    #dataf['regression'] = pd.stats.ols.MovingOLS(y=dataf.close, x=dataf.time,window_type='rolling', window=7, intercept=True)\n",
    "    \n",
    "    reg = RollingOLS(dataf.time, dataf.close, window=7)\n",
    "    rres = reg.fit()\n",
    "    params = rres.params.copy()\n",
    "    params.index = np.arange(1, params.shape[0] + 1)\n",
    "\n",
    "    \n",
    "    res = sm.OLS(dataf.time, dataf.close).fit()\n",
    "    print(res.summary())\n",
    "    \n",
    "    \n",
    "    #df['Y_hat'] = regression.y_predict\n",
    "    return dataf\n",
    "\n",
    "def getMarkets(exchangeid):\n",
    "    exchange = ccxt.binance()\n",
    "    \n",
    "    markets = exchange.load_markets()\n",
    "    \n",
    "    for market in markets:\n",
    "        print(market)"
   ]
  },
  {
   "cell_type": "code",
   "execution_count": 184,
   "id": "ce087b4b-e5ca-4963-b7d0-667ff8d8a638",
   "metadata": {},
   "outputs": [],
   "source": [
    "def sortData(Data):\n",
    "    \n",
    "    arr = np.array(Data)\n",
    "    #close = np.array(unsortedData[4][:])\n",
    "    #print(arr)\n",
    "    print(arr[0][:])\n",
    "    \n",
    "    return arr"
   ]
  },
  {
   "cell_type": "code",
   "execution_count": 185,
   "id": "fa71981f-9e69-4a2d-81b0-3e26c60ce3c7",
   "metadata": {
    "tags": []
   },
   "outputs": [],
   "source": [
    "def plotData(dataf):\n",
    "    dataf.time = pd.to_datetime(dataf.time,unit='ms')\n",
    "    \n",
    "    print(dataf)\n",
    "\n",
    "    plt.plot(dataf.time,dataf.close, label=\"Price Close\")\n",
    "    plt.plot(dataf.time,dataf.MA7, label =\"7MA\")\n",
    "    plt.plot(dataf.time,dataf.MA30, label=\"30MA\")\n",
    "    plt.plot(dataf.time,dataf.MA200, label=\"200MA\")\n",
    "    \n",
    "    #plt.plot(dataf.time,dataf.volume, \"o\")\n",
    "    #plt.xlim(10:1000)\n",
    "    plt.xlim(dataf.time[100],dataf.time[200])\n",
    "    \n",
    "    plt.xlabel('Time')\n",
    "    plt.ylabel('Price')\n",
    "    plt.title(\"BTC/USD\")\n",
    "    plt.legend();\n",
    "    plt.show\n",
    "    "
   ]
  },
  {
   "cell_type": "code",
   "execution_count": 186,
   "id": "81f69eb0-78ac-4cbf-80a3-1f37d632d7ab",
   "metadata": {
    "tags": []
   },
   "outputs": [],
   "source": [
    "def getUserInput():\n",
    "    balance = input(\"What amount of money do you want to start with? \")\n",
    "    ticker = input(\"What ticker ID do you want to evaluate? \")\n",
    "    #potentially add feature to check against known ticker list? This would prevent errors\n",
    "    plot = input(\"Please enter 1 if you would like to see a plot of the data. 0 for no plot\")\n",
    "    timeframe = input(\"What timeframe would you want to trade on?\")\n",
    "    \n",
    "    return balance, ticker, plot, timeframe \n",
    "\n",
    "def calcAvg(price):\n",
    "    sum = 0\n",
    "    for row in range(len(price[1])):\n",
    "        sum = sum + price[1][row]\n",
    "    \n",
    "    avg = sum / (len(price))\n",
    "    #print(sum)\n",
    "    return avg\n",
    "\n",
    "def removeRow(buy_data, sell_list):\n",
    "    #print(buy_data)\n",
    "\n",
    "    for loc in range(len(sell_list)):\n",
    "        position = buy_data[1].index(sell_list[loc])\n",
    "        del buy_data[0][position]\n",
    "        del buy_data[1][position]\n",
    "        del buy_data[2][position]\n",
    "    \n",
    "    sell_list.clear()\n"
   ]
  },
  {
   "cell_type": "code",
   "execution_count": 187,
   "id": "24845ed6-b29a-4c76-bea1-460406e87b3a",
   "metadata": {},
   "outputs": [
    {
     "ename": "SyntaxError",
     "evalue": "invalid syntax (745899006.py, line 4)",
     "output_type": "error",
     "traceback": [
      "\u001b[0;36m  File \u001b[0;32m\"/var/folders/pt/kjtylcmd7bb5dgrvhqb164qr0000gn/T/ipykernel_52748/745899006.py\"\u001b[0;36m, line \u001b[0;32m4\u001b[0m\n\u001b[0;31m    \"2h\", 7200000\u001b[0m\n\u001b[0m    ^\u001b[0m\n\u001b[0;31mSyntaxError\u001b[0m\u001b[0;31m:\u001b[0m invalid syntax\n"
     ]
    }
   ],
   "source": [
    "def calc_dates(data_points, timeframe):\n",
    "    conversion = {\n",
    "        \"1h\", 3600000\n",
    "        \"2h\", 7200000\n",
    "        \"4h\", 14400000\n",
    "        \"24h\", 86400000\n",
    "        \"1d\", 86400000\n",
    "        \"2d\", 172800000\n",
    "        \"4d\", 345600000\n",
    "        \"7d\", 604800000\n",
    "        \"1w\", 604800000\n",
    "    }\n",
    "    \n",
    "    return start_date"
   ]
  },
  {
   "cell_type": "code",
   "execution_count": 188,
   "id": "3f5c0a60-d106-46b0-b52b-d43ac1669e0d",
   "metadata": {
    "tags": []
   },
   "outputs": [
    {
     "ename": "SyntaxError",
     "evalue": "invalid syntax (713121640.py, line 1)",
     "output_type": "error",
     "traceback": [
      "\u001b[0;36m  File \u001b[0;32m\"/var/folders/pt/kjtylcmd7bb5dgrvhqb164qr0000gn/T/ipykernel_52748/713121640.py\"\u001b[0;36m, line \u001b[0;32m1\u001b[0m\n\u001b[0;31m    def trendstrat(balance, ticker, timeframe)\u001b[0m\n\u001b[0m                                              ^\u001b[0m\n\u001b[0;31mSyntaxError\u001b[0m\u001b[0;31m:\u001b[0m invalid syntax\n"
     ]
    }
   ],
   "source": [
    "def trendstrat(balance, ticker, timeframe)\n",
    "\n",
    "\n",
    "            "
   ]
  },
  {
   "cell_type": "code",
   "execution_count": 189,
   "id": "5ffa7b32-cba8-4144-943c-c6a796fd1efe",
   "metadata": {},
   "outputs": [
    {
     "name": "stdout",
     "output_type": "stream",
     "text": [
      "                                 OLS Regression Results                                \n",
      "=======================================================================================\n",
      "Dep. Variable:                   time   R-squared (uncentered):            -6092873.255\n",
      "Model:                            OLS   Adj. R-squared (uncentered):       -6098972.228\n",
      "Method:                 Least Squares   F-statistic:                             -999.0\n",
      "Date:                Mon, 21 Nov 2022   Prob (F-statistic):                        1.00\n",
      "Time:                        16:06:29   Log-Likelihood:                         -27388.\n",
      "No. Observations:                1000   AIC:                                  5.478e+04\n",
      "Df Residuals:                     999   BIC:                                  5.478e+04\n",
      "Df Model:                           1                                                  \n",
      "Covariance Type:            nonrobust                                                  \n",
      "==============================================================================\n",
      "                 coef    std err          t      P>|t|      [0.025      0.975]\n",
      "------------------------------------------------------------------------------\n",
      "close       7.907e+07   2.87e+05    275.114      0.000    7.85e+07    7.96e+07\n",
      "==============================================================================\n",
      "Omnibus:                      239.022   Durbin-Watson:                   0.014\n",
      "Prob(Omnibus):                  0.000   Jarque-Bera (JB):              692.989\n",
      "Skew:                          -1.193   Prob(JB):                    3.31e-151\n",
      "Kurtosis:                       6.307   Cond. No.                         1.00\n",
      "==============================================================================\n",
      "\n",
      "Notes:\n",
      "[1] R² is computed without centering (uncentered) since the model does not contain a constant.\n",
      "[2] Standard Errors assume that the covariance matrix of the errors is correctly specified.\n",
      "                   time      open      high       low     close        volume  \\\n",
      "0   2022-06-08 08:00:00  30561.77  30616.85  30336.81  30410.85   6328.103560   \n",
      "1   2022-06-08 12:00:00  30410.85  30901.67  30051.16  30476.77  15544.555600   \n",
      "2   2022-06-08 16:00:00  30476.77  30552.64  29916.45  30140.14   9386.625440   \n",
      "3   2022-06-08 20:00:00  30140.14  30499.00  30102.86  30204.77   4315.264040   \n",
      "4   2022-06-09 00:00:00  30204.77  30323.51  30070.24  30293.49   4608.917920   \n",
      "..                  ...       ...       ...       ...       ...           ...   \n",
      "995 2022-11-21 04:00:00  16073.15  16319.00  15955.99  16039.73  51162.588220   \n",
      "996 2022-11-21 08:00:00  16040.73  16169.52  15964.00  16084.42  44238.605100   \n",
      "997 2022-11-21 12:00:00  16084.42  16284.00  16025.42  16130.45  42559.749870   \n",
      "998 2022-11-21 16:00:00  16130.45  16139.19  15589.68  15722.98  66317.781750   \n",
      "999 2022-11-21 20:00:00  15721.51  15894.74  15476.00  15792.00  50851.779453   \n",
      "\n",
      "              MA7       MA10          MA30       MA100        MA200  \n",
      "0             NaN        NaN           NaN         NaN          NaN  \n",
      "1             NaN        NaN           NaN         NaN          NaN  \n",
      "2             NaN        NaN           NaN         NaN          NaN  \n",
      "3             NaN        NaN           NaN         NaN          NaN  \n",
      "4             NaN        NaN           NaN         NaN          NaN  \n",
      "..            ...        ...           ...         ...          ...  \n",
      "995  16401.474286  16481.832  16590.803667  17797.8878  18900.13190  \n",
      "996  16310.262857  16427.541  16570.021000  17747.6466  18884.14585  \n",
      "997  16253.844286  16370.518  16559.979333  17697.4659  18868.70755  \n",
      "998  16131.337143  16274.817  16532.182667  17640.2496  18851.31825  \n",
      "999  16017.651429  16181.727  16503.157333  17584.3254  18833.94610  \n",
      "\n",
      "[1000 rows x 11 columns]\n"
     ]
    },
    {
     "data": {
      "image/png": "[encoded data removed]",
      "text/plain": [
       "<Figure size 640x480 with 1 Axes>"
      ]
     },
     "metadata": {},
     "output_type": "display_data"
    }
   ],
   "source": [
    "unsortedData = []\n",
    "\n",
    "#ticker = getUserInput()\n",
    "ticker = \"BTC/USDT\"\n",
    "exchange = \"Binance\"\n",
    "interval = \"4h\"\n",
    "dataf = getData(ticker, interval)\n",
    "#sortedData = sortData(unsortedData)\n",
    "plotData(dataf)\n",
    "\n",
    "balance = 1000\n",
    "\n",
    "\n",
    "\n"
   ]
  },
  {
   "cell_type": "code",
   "execution_count": null,
   "id": "7675161a-bd07-4eb5-aae1-15d914c70aeb",
   "metadata": {},
   "outputs": [],
   "source": []
  },
  {
   "cell_type": "code",
   "execution_count": null,
   "id": "084bbb80-029a-4140-98ca-38c97c2774dd",
   "metadata": {},
   "outputs": [],
   "source": []
  }
 ],
 "metadata": {
  "kernelspec": {
   "display_name": "Python 3 (ipykernel)",
   "language": "python",
   "name": "python3"
  },
  "language_info": {
   "codemirror_mode": {
    "name": "ipython",
    "version": 3
   },
   "file_extension": ".py",
   "mimetype": "text/x-python",
   "name": "python",
   "nbconvert_exporter": "python",
   "pygments_lexer": "ipython3",
   "version": "3.9.13"
  }
 },
 "nbformat": 4,
 "nbformat_minor": 5
}
